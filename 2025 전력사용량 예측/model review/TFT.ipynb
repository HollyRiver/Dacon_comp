{
 "cells": [
  {
   "cell_type": "markdown",
   "id": "86e06945",
   "metadata": {},
   "source": [
    "## Imports"
   ]
  },
  {
   "cell_type": "code",
   "execution_count": 1,
   "id": "328b9b77",
   "metadata": {},
   "outputs": [],
   "source": [
    "import pandas as pd\n",
    "import torch\n",
    "import pytorch_forecasting\n",
    "from pytorch_lightning import Trainer"
   ]
  },
  {
   "cell_type": "markdown",
   "id": "495a9075",
   "metadata": {},
   "source": [
    "## Concept"
   ]
  },
  {
   "cell_type": "markdown",
   "id": "320af9f5",
   "metadata": {},
   "source": [
    "1. Static Metadata, Time-varying Past Inputs, Time-varying Future Inputs을 Input Data로 활용\n",
    "2. 모든 Inputs은 변수 선택 단계(VSN)를 거쳐 정적 공변량과 Time-varying Inputs들이 함께 LSTM layer에 입력됨\n",
    "3. Time-varying Past Inputs은 Encoder에, Time-varying Future Inputs은 Decoder에 입력\n",
    "4. LSTM total layer outputs과 정적 공변량 데이터를 GRN layer에 합께 입력한 후, Masked Interpretable Multi-head attention layer에 입력\n",
    "5. 최종적으로 LSTM decoder 산출 값과 GRN을 거친 attention layer의 산출 값을 결합하여 quantile forecase를 진행"
   ]
  },
  {
   "cell_type": "markdown",
   "id": "8c27b817",
   "metadata": {},
   "source": [
    "## 사용법"
   ]
  },
  {
   "cell_type": "code",
   "execution_count": null,
   "id": "5161add1",
   "metadata": {},
   "outputs": [],
   "source": [
    "#!pip install tensorflow\n",
    "#!pip install tensorboard\n",
    "#!pip install optuna statsmodels\n",
    "#!pip install optuna-integration[pytorch_lightning]"
   ]
  },
  {
   "cell_type": "code",
   "execution_count": 2,
   "id": "8e7cd63b",
   "metadata": {},
   "outputs": [],
   "source": [
    "import copy\n",
    "from pathlib import Path\n",
    "import warnings\n",
    "\n",
    "import lightning.pytorch as pl\n",
    "from lightning.pytorch.callbacks import EarlyStopping, LearningRateMonitor\n",
    "from lightning.pytorch.loggers import TensorBoardLogger\n",
    "import numpy as np\n",
    "import pandas as pd\n",
    "import torch\n",
    "\n",
    "from pytorch_forecasting import Baseline, TemporalFusionTransformer, TimeSeriesDataSet\n",
    "from pytorch_forecasting.data import GroupNormalizer\n",
    "from pytorch_forecasting.metrics import MAE, SMAPE, PoissonLoss, QuantileLoss\n",
    "from pytorch_forecasting.models.temporal_fusion_transformer.tuning import optimize_hyperparameters\n",
    "from pytorch_forecasting.data.examples import get_stallion_data"
   ]
  },
  {
   "cell_type": "markdown",
   "id": "5be9561a",
   "metadata": {},
   "source": [
    "### Preprocessing"
   ]
  },
  {
   "cell_type": "code",
   "execution_count": 3,
   "id": "76cb7f35",
   "metadata": {},
   "outputs": [],
   "source": [
    "from pytorch_forecasting.data.examples import get_stallion_data\n",
    "\n",
    "data = get_stallion_data() ## pandas df\n",
    "\n",
    "## add time index\n",
    "data[\"time_idx\"] = data[\"date\"].dt.year*12 + data[\"date\"].dt.month\n",
    "data[\"time_idx\"] -= data[\"time_idx\"].min() ## monto 단위, 0 to fin, 시점 당 350개 데이터\n",
    "\n",
    "## add additional features\n",
    "data[\"month\"] = data.date.dt.month.astype(str).astype(\"category\")\n",
    "data[\"log_volume\"] = np.log(data.volume + 1e-8)\n",
    "data[\"avg_volume_by_sku\"] = data.groupby([\"time_idx\", \"sku\"], observed=True).volume.transform(\"mean\")\n",
    "data[\"avg_volume_by_agency\"] = data.groupby([\"time_idx\", \"sku\"], observed=True).volume.transform(\"mean\")\n",
    "\n",
    "## special days encoding\n",
    "special_days = [\n",
    "    \"easter_day\",\n",
    "    \"good_friday\",\n",
    "    \"new_year\",\n",
    "    \"christmas\",\n",
    "    \"labor_day\",\n",
    "    \"independence_day\",\n",
    "    \"revolution_day_memorial\",\n",
    "    \"regional_games\",\n",
    "    \"fifa_u_17_world_cup\",\n",
    "    \"football_gold_cup\",\n",
    "    \"beer_capital\",\n",
    "    \"music_fest\",\n",
    "]\n",
    "\n",
    "## 이게 뭐임? 데이터프레임에 들어간 게 아니네?\n",
    "data[special_days] = (\n",
    "    data[special_days].apply(lambda x: x.map({0: \"-\", 1: x.name})).astype(\"category\")\n",
    ")"
   ]
  },
  {
   "cell_type": "markdown",
   "id": "63470505",
   "metadata": {},
   "source": [
    "### Create dataset and dataloaders"
   ]
  },
  {
   "cell_type": "code",
   "execution_count": 4,
   "id": "9508d139",
   "metadata": {},
   "outputs": [],
   "source": [
    "max_prediction_length = 6   ## validation length\n",
    "max_encoder_length = 24     ## encoding length\n",
    "training_cutoff = data[\"time_idx\"].max() - max_prediction_length ## 훈련 데이터 종료 시점\n",
    "\n",
    "training = TimeSeriesDataSet(\n",
    "    data[lambda x : x.time_idx <= training_cutoff],\n",
    "    time_idx = \"time_idx\", ## integer. 0 >=\n",
    "    target = \"volume\",\n",
    "    group_ids = [\"agency\", \"sku\"], ## TimeSeries Group\n",
    "    min_encoder_length = max_encoder_length // 2, ## 인코더 길이 길게 유지\n",
    "    max_encoder_length = max_encoder_length,\n",
    "    min_prediction_length = 1,\n",
    "    max_prediction_length = max_prediction_length,\n",
    "    static_categoricals = [\"agency\", \"sku\"], ## 분리되는 요소만 시점에 불변\n",
    "    static_reals = [\"avg_population_2017\", \"avg_yearly_household_income_2017\"], ## 수치형 중에선 평균값만 불변\n",
    "    time_varying_known_categoricals = [\"special_days\", \"month\"], ## 시간에 따라 바뀌는 카테고리\n",
    "    variable_groups = {\n",
    "        \"special_days\" : special_days\n",
    "    }, ## 한 개의 변수로 설명 가능\n",
    "    time_varying_known_reals = [\"time_idx\", \"price_regular\", \"discount_in_percent\"],\n",
    "    time_varying_unknown_categoricals = [],\n",
    "    time_varying_unknown_reals = [\n",
    "        \"volume\",\n",
    "        \"log_volume\",\n",
    "        \"industry_volume\",\n",
    "        \"soda_volume\",\n",
    "        \"avg_max_temp\",\n",
    "        \"avg_volume_by_agency\",\n",
    "        \"avg_volume_by_sku\",\n",
    "    ], ## 정보 유출?\n",
    "    target_normalizer = GroupNormalizer(\n",
    "        groups=[\"agency\", \"sku\"], transformation=\"softplus\"\n",
    "    ),  ## use softplus and normalize by group -> ReLU랑 비슷함\n",
    "    add_relative_time_idx = True,\n",
    "    add_target_scales = True,\n",
    "    add_encoder_length = True\n",
    ")\n",
    "\n",
    "## create validation set\n",
    "validation = TimeSeriesDataSet.from_dataset(\n",
    "    training, data, predict = True, stop_randomization = True\n",
    ")\n",
    "\n",
    "## create dataloaders for model\n",
    "batch_size = 32\n",
    "train_dataloader = training.to_dataloader(\n",
    "    train = True, batch_size = batch_size, num_workers = 0\n",
    ")\n",
    "val_dataloader = validation.to_dataloader(\n",
    "    train = False, batch_size = batch_size * 10, num_workers = 0\n",
    ")"
   ]
  },
  {
   "cell_type": "markdown",
   "id": "555a8846",
   "metadata": {},
   "source": [
    "### Modeling"
   ]
  },
  {
   "cell_type": "code",
   "execution_count": 5,
   "id": "b1bd6eaf",
   "metadata": {},
   "outputs": [
    {
     "name": "stderr",
     "output_type": "stream",
     "text": [
      "/root/anaconda3/envs/trch/lib/python3.12/site-packages/lightning/pytorch/utilities/parsing.py:209: Attribute 'loss' is an instance of `nn.Module` and is already saved during checkpointing. It is recommended to ignore them using `self.save_hyperparameters(ignore=['loss'])`.\n",
      "/root/anaconda3/envs/trch/lib/python3.12/site-packages/lightning/pytorch/utilities/parsing.py:209: Attribute 'logging_metrics' is an instance of `nn.Module` and is already saved during checkpointing. It is recommended to ignore them using `self.save_hyperparameters(ignore=['logging_metrics'])`.\n",
      "2025-08-11 13:35:57.605644: E external/local_xla/xla/stream_executor/cuda/cuda_fft.cc:467] Unable to register cuFFT factory: Attempting to register factory for plugin cuFFT when one has already been registered\n",
      "WARNING: All log messages before absl::InitializeLog() is called are written to STDERR\n",
      "E0000 00:00:1754886957.620947   91168 cuda_dnn.cc:8579] Unable to register cuDNN factory: Attempting to register factory for plugin cuDNN when one has already been registered\n",
      "E0000 00:00:1754886957.625966   91168 cuda_blas.cc:1407] Unable to register cuBLAS factory: Attempting to register factory for plugin cuBLAS when one has already been registered\n",
      "W0000 00:00:1754886957.639007   91168 computation_placer.cc:177] computation placer already registered. Please check linkage and avoid linking the same target more than once.\n",
      "W0000 00:00:1754886957.639019   91168 computation_placer.cc:177] computation placer already registered. Please check linkage and avoid linking the same target more than once.\n",
      "W0000 00:00:1754886957.639021   91168 computation_placer.cc:177] computation placer already registered. Please check linkage and avoid linking the same target more than once.\n",
      "W0000 00:00:1754886957.639022   91168 computation_placer.cc:177] computation placer already registered. Please check linkage and avoid linking the same target more than once.\n",
      "2025-08-11 13:35:57.643535: I tensorflow/core/platform/cpu_feature_guard.cc:210] This TensorFlow binary is optimized to use available CPU instructions in performance-critical operations.\n",
      "To enable the following instructions: AVX2 FMA, in other operations, rebuild TensorFlow with the appropriate compiler flags.\n",
      "LOCAL_RANK: 0 - CUDA_VISIBLE_DEVICES: [0]\n",
      "/root/anaconda3/envs/trch/lib/python3.12/site-packages/lightning/pytorch/trainer/connectors/data_connector.py:425: The 'predict_dataloader' does not have many workers which may be a bottleneck. Consider increasing the value of the `num_workers` argument` to `num_workers=127` in the `DataLoader` to improve performance.\n"
     ]
    },
    {
     "data": {
      "text/plain": [
       "tensor(0.4709, device='cuda:0')"
      ]
     },
     "execution_count": 5,
     "metadata": {},
     "output_type": "execute_result"
    }
   ],
   "source": [
    "baseline_predictions = Baseline().predict(val_dataloader, return_y = True)\n",
    "SMAPE()(baseline_predictions.output, baseline_predictions.y)"
   ]
  },
  {
   "cell_type": "code",
   "execution_count": 5,
   "id": "c391fa80",
   "metadata": {},
   "outputs": [
    {
     "name": "stderr",
     "output_type": "stream",
     "text": [
      "Seed set to 42\n",
      "💡 Tip: For seamless cloud uploads and versioning, try installing [litmodels](https://pypi.org/project/litmodels/) to enable LitModelCheckpoint, which syncs automatically with the Lightning model registry.\n",
      "GPU available: True (cuda), used: True\n",
      "TPU available: False, using: 0 TPU cores\n",
      "HPU available: False, using: 0 HPUs\n"
     ]
    },
    {
     "name": "stdout",
     "output_type": "stream",
     "text": [
      "Number of parameters in network: 13.5k\n"
     ]
    },
    {
     "name": "stderr",
     "output_type": "stream",
     "text": [
      "/root/anaconda3/envs/trch/lib/python3.12/site-packages/lightning/pytorch/utilities/parsing.py:209: Attribute 'loss' is an instance of `nn.Module` and is already saved during checkpointing. It is recommended to ignore them using `self.save_hyperparameters(ignore=['loss'])`.\n",
      "/root/anaconda3/envs/trch/lib/python3.12/site-packages/lightning/pytorch/utilities/parsing.py:209: Attribute 'logging_metrics' is an instance of `nn.Module` and is already saved during checkpointing. It is recommended to ignore them using `self.save_hyperparameters(ignore=['logging_metrics'])`.\n"
     ]
    }
   ],
   "source": [
    "pl.seed_everything(42) ## setting pytorch lightning seed\n",
    "\n",
    "trainer = pl.Trainer(\n",
    "    accelerator = \"gpu\",\n",
    "    gradient_clip_val = 0.1\n",
    ")\n",
    "\n",
    "tft = TemporalFusionTransformer.from_dataset(\n",
    "    training,\n",
    "    learning_rate = 0.03,\n",
    "    hidden_size = 8,\n",
    "    attention_head_size = 1,\n",
    "    dropout = 0.1, ## 0.1 to 0.3\n",
    "    hidden_continuous_size = 8, ## <= hidden_size\n",
    "    loss = QuantileLoss(),\n",
    "    optimizer = \"ranger\",\n",
    "    # reduce_on_plateau_patience = 1000 ## 에폭 이후에도 validation loss 미감소시 사용\n",
    ")\n",
    "\n",
    "print(f\"Number of parameters in network: {tft.size() / 1e3:.1f}k\")"
   ]
  },
  {
   "cell_type": "code",
   "execution_count": 7,
   "id": "5483df98",
   "metadata": {},
   "outputs": [
    {
     "name": "stderr",
     "output_type": "stream",
     "text": [
      "/root/anaconda3/envs/trch/lib/python3.12/site-packages/lightning/pytorch/loops/utilities.py:73: `max_epochs` was not set. Setting it to 1000 epochs. To train without an epoch limit, set `max_epochs=-1`.\n",
      "LOCAL_RANK: 0 - CUDA_VISIBLE_DEVICES: [0]\n",
      "/root/anaconda3/envs/trch/lib/python3.12/site-packages/lightning/pytorch/trainer/connectors/data_connector.py:425: The 'train_dataloader' does not have many workers which may be a bottleneck. Consider increasing the value of the `num_workers` argument` to `num_workers=127` in the `DataLoader` to improve performance.\n",
      "/root/anaconda3/envs/trch/lib/python3.12/site-packages/lightning/pytorch/trainer/connectors/data_connector.py:425: The 'val_dataloader' does not have many workers which may be a bottleneck. Consider increasing the value of the `num_workers` argument` to `num_workers=127` in the `DataLoader` to improve performance.\n"
     ]
    },
    {
     "data": {
      "application/vnd.jupyter.widget-view+json": {
       "model_id": "f9b2108fb22342c9b785111472b4c2ec",
       "version_major": 2,
       "version_minor": 0
      },
      "text/plain": [
       "Finding best initial lr:   0%|          | 0/100 [00:00<?, ?it/s]"
      ]
     },
     "metadata": {},
     "output_type": "display_data"
    },
    {
     "name": "stderr",
     "output_type": "stream",
     "text": [
      "LR finder stopped early after 99 steps due to diverging loss.\n",
      "Learning rate set to 4.7863009232263824e-05\n",
      "Restoring states from the checkpoint path at /root/Dacon_comp/2025 전력사용량 예측/model review/.lr_find_b40d33f6-29af-4213-beda-058516dfd8e5.ckpt\n",
      "Restored all states from the checkpoint at /root/Dacon_comp/2025 전력사용량 예측/model review/.lr_find_b40d33f6-29af-4213-beda-058516dfd8e5.ckpt\n"
     ]
    },
    {
     "name": "stdout",
     "output_type": "stream",
     "text": [
      "suggested learning rate: 4.7863009232263824e-05\n"
     ]
    },
    {
     "data": {
      "image/png": "[encoded data removed]",
      "text/plain": [
       "<Figure size 640x480 with 1 Axes>"
      ]
     },
     "metadata": {},
     "output_type": "display_data"
    }
   ],
   "source": [
    "## find optimal learning rate\n",
    "from lightning.pytorch.tuner import Tuner\n",
    "\n",
    "res = Tuner(trainer).lr_find(\n",
    "    tft,\n",
    "    train_dataloaders = train_dataloader,\n",
    "    val_dataloaders = val_dataloader,\n",
    "    max_lr = 10.0,\n",
    "    min_lr = 1e-6\n",
    ")\n",
    "\n",
    "print(f\"suggested learning rate: {res.suggestion()}\")\n",
    "fig = res.plot(show=True, suggest=True)\n",
    "fig.show()"
   ]
  },
  {
   "cell_type": "markdown",
   "id": "5dd0e34f",
   "metadata": {},
   "source": [
    "### Train"
   ]
  },
  {
   "cell_type": "code",
   "execution_count": 8,
   "id": "337ef9af",
   "metadata": {},
   "outputs": [
    {
     "name": "stderr",
     "output_type": "stream",
     "text": [
      "💡 Tip: For seamless cloud uploads and versioning, try installing [litmodels](https://pypi.org/project/litmodels/) to enable LitModelCheckpoint, which syncs automatically with the Lightning model registry.\n",
      "GPU available: True (cuda), used: True\n",
      "TPU available: False, using: 0 TPU cores\n",
      "HPU available: False, using: 0 HPUs\n"
     ]
    },
    {
     "name": "stdout",
     "output_type": "stream",
     "text": [
      "Number of parameters in network: 29.4k\n"
     ]
    },
    {
     "name": "stderr",
     "output_type": "stream",
     "text": [
      "/root/anaconda3/envs/trch/lib/python3.12/site-packages/lightning/pytorch/utilities/parsing.py:209: Attribute 'loss' is an instance of `nn.Module` and is already saved during checkpointing. It is recommended to ignore them using `self.save_hyperparameters(ignore=['loss'])`.\n",
      "/root/anaconda3/envs/trch/lib/python3.12/site-packages/lightning/pytorch/utilities/parsing.py:209: Attribute 'logging_metrics' is an instance of `nn.Module` and is already saved during checkpointing. It is recommended to ignore them using `self.save_hyperparameters(ignore=['logging_metrics'])`.\n"
     ]
    }
   ],
   "source": [
    "early_stop_callback = EarlyStopping(\n",
    "    monitor = \"val_loss\", min_delta = 1e-4, patience = 10, verbose = False, mode = \"min\"\n",
    ")\n",
    "lr_logger = LearningRateMonitor() ## log the learning rate\n",
    "logger = TensorBoardLogger(\"lightning_logs\") ## logging results to a tensorboard\n",
    "\n",
    "trainer = pl.Trainer(\n",
    "    max_epochs = 50,\n",
    "    accelerator = \"gpu\",\n",
    "    enable_model_summary = True,\n",
    "    gradient_clip_val = 0.1,\n",
    "    limit_train_batches = 50, ## comment in for training, running validation every 30 batches\n",
    "    callbacks = [lr_logger, early_stop_callback],\n",
    "    logger = logger\n",
    ")\n",
    "\n",
    "tft = TemporalFusionTransformer.from_dataset(\n",
    "    training,\n",
    "    learning_rate = 0.03,\n",
    "    hidden_size = 16,\n",
    "    attention_head_size = 2,\n",
    "    dropout = 0.1,\n",
    "    hidden_continuous_size = 8,\n",
    "    loss = QuantileLoss(),\n",
    "    log_interval = 10, ## 10 batchs마다 로그\n",
    "    optimizer = \"ranger\",\n",
    "    reduce_on_plateau_patience = 4\n",
    ")\n",
    "\n",
    "print(f\"Number of parameters in network: {tft.size() / 1e3:.1f}k\")"
   ]
  },
  {
   "cell_type": "code",
   "execution_count": 9,
   "id": "7800d933",
   "metadata": {},
   "outputs": [
    {
     "name": "stderr",
     "output_type": "stream",
     "text": [
      "LOCAL_RANK: 0 - CUDA_VISIBLE_DEVICES: [0]\n",
      "\n",
      "   | Name                               | Type                            | Params | Mode \n",
      "------------------------------------------------------------------------------------------------\n",
      "0  | loss                               | QuantileLoss                    | 0      | train\n",
      "1  | logging_metrics                    | ModuleList                      | 0      | train\n",
      "2  | input_embeddings                   | MultiEmbedding                  | 1.3 K  | train\n",
      "3  | prescalers                         | ModuleDict                      | 256    | train\n",
      "4  | static_variable_selection          | VariableSelectionNetwork        | 3.4 K  | train\n",
      "5  | encoder_variable_selection         | VariableSelectionNetwork        | 8.0 K  | train\n",
      "6  | decoder_variable_selection         | VariableSelectionNetwork        | 2.7 K  | train\n",
      "7  | static_context_variable_selection  | GatedResidualNetwork            | 1.1 K  | train\n",
      "8  | static_context_initial_hidden_lstm | GatedResidualNetwork            | 1.1 K  | train\n",
      "9  | static_context_initial_cell_lstm   | GatedResidualNetwork            | 1.1 K  | train\n",
      "10 | static_context_enrichment          | GatedResidualNetwork            | 1.1 K  | train\n",
      "11 | lstm_encoder                       | LSTM                            | 2.2 K  | train\n",
      "12 | lstm_decoder                       | LSTM                            | 2.2 K  | train\n",
      "13 | post_lstm_gate_encoder             | GatedLinearUnit                 | 544    | train\n",
      "14 | post_lstm_add_norm_encoder         | AddNorm                         | 32     | train\n",
      "15 | static_enrichment                  | GatedResidualNetwork            | 1.4 K  | train\n",
      "16 | multihead_attn                     | InterpretableMultiHeadAttention | 808    | train\n",
      "17 | post_attn_gate_norm                | GateAddNorm                     | 576    | train\n",
      "18 | pos_wise_ff                        | GatedResidualNetwork            | 1.1 K  | train\n",
      "19 | pre_output_gate_norm               | GateAddNorm                     | 576    | train\n",
      "20 | output_layer                       | Linear                          | 119    | train\n",
      "------------------------------------------------------------------------------------------------\n",
      "29.4 K    Trainable params\n",
      "0         Non-trainable params\n",
      "29.4 K    Total params\n",
      "0.118     Total estimated model params size (MB)\n",
      "480       Modules in train mode\n",
      "0         Modules in eval mode\n"
     ]
    },
    {
     "data": {
      "application/vnd.jupyter.widget-view+json": {
       "model_id": "049ba804a1614af88186a28ddcddd6ef",
       "version_major": 2,
       "version_minor": 0
      },
      "text/plain": [
       "Sanity Checking: |          | 0/? [00:00<?, ?it/s]"
      ]
     },
     "metadata": {},
     "output_type": "display_data"
    },
    {
     "name": "stderr",
     "output_type": "stream",
     "text": [
      "/root/anaconda3/envs/trch/lib/python3.12/site-packages/lightning/pytorch/trainer/connectors/data_connector.py:425: The 'val_dataloader' does not have many workers which may be a bottleneck. Consider increasing the value of the `num_workers` argument` to `num_workers=127` in the `DataLoader` to improve performance.\n",
      "/root/anaconda3/envs/trch/lib/python3.12/site-packages/lightning/pytorch/trainer/connectors/data_connector.py:425: The 'train_dataloader' does not have many workers which may be a bottleneck. Consider increasing the value of the `num_workers` argument` to `num_workers=127` in the `DataLoader` to improve performance.\n"
     ]
    },
    {
     "data": {
      "application/vnd.jupyter.widget-view+json": {
       "model_id": "371ee02ede7c487593c358971086555e",
       "version_major": 2,
       "version_minor": 0
      },
      "text/plain": [
       "Training: |          | 0/? [00:00<?, ?it/s]"
      ]
     },
     "metadata": {},
     "output_type": "display_data"
    },
    {
     "data": {
      "application/vnd.jupyter.widget-view+json": {
       "model_id": "b8adcae7290d46518dce29faf7acfd8a",
       "version_major": 2,
       "version_minor": 0
      },
      "text/plain": [
       "Validation: |          | 0/? [00:00<?, ?it/s]"
      ]
     },
     "metadata": {},
     "output_type": "display_data"
    },
    {
     "data": {
      "application/vnd.jupyter.widget-view+json": {
       "model_id": "e86c399966b5451884c801de63e1eb25",
       "version_major": 2,
       "version_minor": 0
      },
      "text/plain": [
       "Validation: |          | 0/? [00:00<?, ?it/s]"
      ]
     },
     "metadata": {},
     "output_type": "display_data"
    },
    {
     "data": {
      "application/vnd.jupyter.widget-view+json": {
       "model_id": "752e6762e0d943c5bf944492eb730cc1",
       "version_major": 2,
       "version_minor": 0
      },
      "text/plain": [
       "Validation: |          | 0/? [00:00<?, ?it/s]"
      ]
     },
     "metadata": {},
     "output_type": "display_data"
    },
    {
     "data": {
      "application/vnd.jupyter.widget-view+json": {
       "model_id": "49436ff7f98741c895aee03537adea24",
       "version_major": 2,
       "version_minor": 0
      },
      "text/plain": [
       "Validation: |          | 0/? [00:00<?, ?it/s]"
      ]
     },
     "metadata": {},
     "output_type": "display_data"
    },
    {
     "data": {
      "application/vnd.jupyter.widget-view+json": {
       "model_id": "ad64113ea20e4204910f8b55147e1ce6",
       "version_major": 2,
       "version_minor": 0
      },
      "text/plain": [
       "Validation: |          | 0/? [00:00<?, ?it/s]"
      ]
     },
     "metadata": {},
     "output_type": "display_data"
    },
    {
     "data": {
      "application/vnd.jupyter.widget-view+json": {
       "model_id": "d1ed995935a74db39f799dd722ead138",
       "version_major": 2,
       "version_minor": 0
      },
      "text/plain": [
       "Validation: |          | 0/? [00:00<?, ?it/s]"
      ]
     },
     "metadata": {},
     "output_type": "display_data"
    },
    {
     "data": {
      "application/vnd.jupyter.widget-view+json": {
       "model_id": "b95960c30a354a658d4dd04d3106a5a4",
       "version_major": 2,
       "version_minor": 0
      },
      "text/plain": [
       "Validation: |          | 0/? [00:00<?, ?it/s]"
      ]
     },
     "metadata": {},
     "output_type": "display_data"
    },
    {
     "data": {
      "application/vnd.jupyter.widget-view+json": {
       "model_id": "5b52ced3c3f44f068a6d7a842b888f1f",
       "version_major": 2,
       "version_minor": 0
      },
      "text/plain": [
       "Validation: |          | 0/? [00:00<?, ?it/s]"
      ]
     },
     "metadata": {},
     "output_type": "display_data"
    },
    {
     "data": {
      "application/vnd.jupyter.widget-view+json": {
       "model_id": "24d7f1e2797e496c8157973122e73eff",
       "version_major": 2,
       "version_minor": 0
      },
      "text/plain": [
       "Validation: |          | 0/? [00:00<?, ?it/s]"
      ]
     },
     "metadata": {},
     "output_type": "display_data"
    },
    {
     "data": {
      "application/vnd.jupyter.widget-view+json": {
       "model_id": "c431dce74ac9497bbfee65b9e68a5aed",
       "version_major": 2,
       "version_minor": 0
      },
      "text/plain": [
       "Validation: |          | 0/? [00:00<?, ?it/s]"
      ]
     },
     "metadata": {},
     "output_type": "display_data"
    },
    {
     "data": {
      "application/vnd.jupyter.widget-view+json": {
       "model_id": "e707e3fb5f2e454592d55158b02d817d",
       "version_major": 2,
       "version_minor": 0
      },
      "text/plain": [
       "Validation: |          | 0/? [00:00<?, ?it/s]"
      ]
     },
     "metadata": {},
     "output_type": "display_data"
    },
    {
     "data": {
      "application/vnd.jupyter.widget-view+json": {
       "model_id": "1fe17649809344bd864b2db1e3029636",
       "version_major": 2,
       "version_minor": 0
      },
      "text/plain": [
       "Validation: |          | 0/? [00:00<?, ?it/s]"
      ]
     },
     "metadata": {},
     "output_type": "display_data"
    },
    {
     "data": {
      "application/vnd.jupyter.widget-view+json": {
       "model_id": "ef41f3f784c349559da7beda86d30c1d",
       "version_major": 2,
       "version_minor": 0
      },
      "text/plain": [
       "Validation: |          | 0/? [00:00<?, ?it/s]"
      ]
     },
     "metadata": {},
     "output_type": "display_data"
    },
    {
     "data": {
      "application/vnd.jupyter.widget-view+json": {
       "model_id": "ab3381a95d0a421c95455005818b29dd",
       "version_major": 2,
       "version_minor": 0
      },
      "text/plain": [
       "Validation: |          | 0/? [00:00<?, ?it/s]"
      ]
     },
     "metadata": {},
     "output_type": "display_data"
    },
    {
     "data": {
      "application/vnd.jupyter.widget-view+json": {
       "model_id": "75c16be6c5bb4bc7a1d7739eb0cda860",
       "version_major": 2,
       "version_minor": 0
      },
      "text/plain": [
       "Validation: |          | 0/? [00:00<?, ?it/s]"
      ]
     },
     "metadata": {},
     "output_type": "display_data"
    },
    {
     "data": {
      "application/vnd.jupyter.widget-view+json": {
       "model_id": "7e323085079d4c30acb29a125a7b06c6",
       "version_major": 2,
       "version_minor": 0
      },
      "text/plain": [
       "Validation: |          | 0/? [00:00<?, ?it/s]"
      ]
     },
     "metadata": {},
     "output_type": "display_data"
    },
    {
     "data": {
      "application/vnd.jupyter.widget-view+json": {
       "model_id": "8be0d35c760b4d51aedb3ed9ea480248",
       "version_major": 2,
       "version_minor": 0
      },
      "text/plain": [
       "Validation: |          | 0/? [00:00<?, ?it/s]"
      ]
     },
     "metadata": {},
     "output_type": "display_data"
    },
    {
     "data": {
      "application/vnd.jupyter.widget-view+json": {
       "model_id": "4808c68eb54e4b8fa2618185a0186d82",
       "version_major": 2,
       "version_minor": 0
      },
      "text/plain": [
       "Validation: |          | 0/? [00:00<?, ?it/s]"
      ]
     },
     "metadata": {},
     "output_type": "display_data"
    },
    {
     "data": {
      "application/vnd.jupyter.widget-view+json": {
       "model_id": "fbee4a3cb16046c0878cef2ffe7c707c",
       "version_major": 2,
       "version_minor": 0
      },
      "text/plain": [
       "Validation: |          | 0/? [00:00<?, ?it/s]"
      ]
     },
     "metadata": {},
     "output_type": "display_data"
    },
    {
     "data": {
      "application/vnd.jupyter.widget-view+json": {
       "model_id": "019372514b63492ba8cd9af48ff9450c",
       "version_major": 2,
       "version_minor": 0
      },
      "text/plain": [
       "Validation: |          | 0/? [00:00<?, ?it/s]"
      ]
     },
     "metadata": {},
     "output_type": "display_data"
    },
    {
     "data": {
      "application/vnd.jupyter.widget-view+json": {
       "model_id": "81d5f3ddd7ec4dbf8e3a164d944a4b7d",
       "version_major": 2,
       "version_minor": 0
      },
      "text/plain": [
       "Validation: |          | 0/? [00:00<?, ?it/s]"
      ]
     },
     "metadata": {},
     "output_type": "display_data"
    },
    {
     "data": {
      "application/vnd.jupyter.widget-view+json": {
       "model_id": "381a8dc2b2f04db492c1df125e6809d9",
       "version_major": 2,
       "version_minor": 0
      },
      "text/plain": [
       "Validation: |          | 0/? [00:00<?, ?it/s]"
      ]
     },
     "metadata": {},
     "output_type": "display_data"
    },
    {
     "data": {
      "application/vnd.jupyter.widget-view+json": {
       "model_id": "dceeaa8dc50444a896910a5142e25e9e",
       "version_major": 2,
       "version_minor": 0
      },
      "text/plain": [
       "Validation: |          | 0/? [00:00<?, ?it/s]"
      ]
     },
     "metadata": {},
     "output_type": "display_data"
    },
    {
     "data": {
      "application/vnd.jupyter.widget-view+json": {
       "model_id": "8f27924bf691461e8d19681d4f5d22b5",
       "version_major": 2,
       "version_minor": 0
      },
      "text/plain": [
       "Validation: |          | 0/? [00:00<?, ?it/s]"
      ]
     },
     "metadata": {},
     "output_type": "display_data"
    },
    {
     "data": {
      "application/vnd.jupyter.widget-view+json": {
       "model_id": "a396efcae9dc4ed2add3e92f378f8d34",
       "version_major": 2,
       "version_minor": 0
      },
      "text/plain": [
       "Validation: |          | 0/? [00:00<?, ?it/s]"
      ]
     },
     "metadata": {},
     "output_type": "display_data"
    },
    {
     "data": {
      "application/vnd.jupyter.widget-view+json": {
       "model_id": "b9b8a39dcede479ca1225af9f68948d2",
       "version_major": 2,
       "version_minor": 0
      },
      "text/plain": [
       "Validation: |          | 0/? [00:00<?, ?it/s]"
      ]
     },
     "metadata": {},
     "output_type": "display_data"
    },
    {
     "data": {
      "application/vnd.jupyter.widget-view+json": {
       "model_id": "bf3513c416de451c9637d0916ca59018",
       "version_major": 2,
       "version_minor": 0
      },
      "text/plain": [
       "Validation: |          | 0/? [00:00<?, ?it/s]"
      ]
     },
     "metadata": {},
     "output_type": "display_data"
    },
    {
     "data": {
      "application/vnd.jupyter.widget-view+json": {
       "model_id": "91e703ddf33d4619ba8e6900701a35b1",
       "version_major": 2,
       "version_minor": 0
      },
      "text/plain": [
       "Validation: |          | 0/? [00:00<?, ?it/s]"
      ]
     },
     "metadata": {},
     "output_type": "display_data"
    },
    {
     "data": {
      "application/vnd.jupyter.widget-view+json": {
       "model_id": "3950f893ea7b4e98a57be171da7963a8",
       "version_major": 2,
       "version_minor": 0
      },
      "text/plain": [
       "Validation: |          | 0/? [00:00<?, ?it/s]"
      ]
     },
     "metadata": {},
     "output_type": "display_data"
    },
    {
     "data": {
      "application/vnd.jupyter.widget-view+json": {
       "model_id": "31c2cfb37ddd4f55950c1541cebcd705",
       "version_major": 2,
       "version_minor": 0
      },
      "text/plain": [
       "Validation: |          | 0/? [00:00<?, ?it/s]"
      ]
     },
     "metadata": {},
     "output_type": "display_data"
    },
    {
     "data": {
      "application/vnd.jupyter.widget-view+json": {
       "model_id": "a7198e8d45494b03a3aec0ae0cd689be",
       "version_major": 2,
       "version_minor": 0
      },
      "text/plain": [
       "Validation: |          | 0/? [00:00<?, ?it/s]"
      ]
     },
     "metadata": {},
     "output_type": "display_data"
    },
    {
     "data": {
      "application/vnd.jupyter.widget-view+json": {
       "model_id": "d38b9b66b6cf4a71a85f0755910ee078",
       "version_major": 2,
       "version_minor": 0
      },
      "text/plain": [
       "Validation: |          | 0/? [00:00<?, ?it/s]"
      ]
     },
     "metadata": {},
     "output_type": "display_data"
    },
    {
     "data": {
      "application/vnd.jupyter.widget-view+json": {
       "model_id": "696f4d1acdd34281a0159f7d8541f639",
       "version_major": 2,
       "version_minor": 0
      },
      "text/plain": [
       "Validation: |          | 0/? [00:00<?, ?it/s]"
      ]
     },
     "metadata": {},
     "output_type": "display_data"
    },
    {
     "data": {
      "application/vnd.jupyter.widget-view+json": {
       "model_id": "c68be3002fc24583bd4628b1dc325c5f",
       "version_major": 2,
       "version_minor": 0
      },
      "text/plain": [
       "Validation: |          | 0/? [00:00<?, ?it/s]"
      ]
     },
     "metadata": {},
     "output_type": "display_data"
    },
    {
     "data": {
      "application/vnd.jupyter.widget-view+json": {
       "model_id": "b56b9046dc9b431a8ced9fee31aa1b67",
       "version_major": 2,
       "version_minor": 0
      },
      "text/plain": [
       "Validation: |          | 0/? [00:00<?, ?it/s]"
      ]
     },
     "metadata": {},
     "output_type": "display_data"
    },
    {
     "data": {
      "application/vnd.jupyter.widget-view+json": {
       "model_id": "42c509fafdda44daa77fb443103ba08b",
       "version_major": 2,
       "version_minor": 0
      },
      "text/plain": [
       "Validation: |          | 0/? [00:00<?, ?it/s]"
      ]
     },
     "metadata": {},
     "output_type": "display_data"
    },
    {
     "data": {
      "application/vnd.jupyter.widget-view+json": {
       "model_id": "5bd2191322424760b63711dce047cc1d",
       "version_major": 2,
       "version_minor": 0
      },
      "text/plain": [
       "Validation: |          | 0/? [00:00<?, ?it/s]"
      ]
     },
     "metadata": {},
     "output_type": "display_data"
    },
    {
     "data": {
      "application/vnd.jupyter.widget-view+json": {
       "model_id": "4cce1f08605f496f988505ffabd7952e",
       "version_major": 2,
       "version_minor": 0
      },
      "text/plain": [
       "Validation: |          | 0/? [00:00<?, ?it/s]"
      ]
     },
     "metadata": {},
     "output_type": "display_data"
    },
    {
     "data": {
      "application/vnd.jupyter.widget-view+json": {
       "model_id": "c94162d221d349fbb7661a9f339acbae",
       "version_major": 2,
       "version_minor": 0
      },
      "text/plain": [
       "Validation: |          | 0/? [00:00<?, ?it/s]"
      ]
     },
     "metadata": {},
     "output_type": "display_data"
    },
    {
     "data": {
      "application/vnd.jupyter.widget-view+json": {
       "model_id": "2a02fe3ca0444f509d1ccc08caa8c9be",
       "version_major": 2,
       "version_minor": 0
      },
      "text/plain": [
       "Validation: |          | 0/? [00:00<?, ?it/s]"
      ]
     },
     "metadata": {},
     "output_type": "display_data"
    },
    {
     "data": {
      "application/vnd.jupyter.widget-view+json": {
       "model_id": "e0461ff61c3b4874b3256e955167f3b3",
       "version_major": 2,
       "version_minor": 0
      },
      "text/plain": [
       "Validation: |          | 0/? [00:00<?, ?it/s]"
      ]
     },
     "metadata": {},
     "output_type": "display_data"
    },
    {
     "data": {
      "application/vnd.jupyter.widget-view+json": {
       "model_id": "5d864d9f9ad2457687d635bcc3cde39c",
       "version_major": 2,
       "version_minor": 0
      },
      "text/plain": [
       "Validation: |          | 0/? [00:00<?, ?it/s]"
      ]
     },
     "metadata": {},
     "output_type": "display_data"
    },
    {
     "data": {
      "application/vnd.jupyter.widget-view+json": {
       "model_id": "1a787c5781ea466f9fd53027aeb47ebf",
       "version_major": 2,
       "version_minor": 0
      },
      "text/plain": [
       "Validation: |          | 0/? [00:00<?, ?it/s]"
      ]
     },
     "metadata": {},
     "output_type": "display_data"
    },
    {
     "data": {
      "application/vnd.jupyter.widget-view+json": {
       "model_id": "2b7465a378da45df98cc5f063860c6e8",
       "version_major": 2,
       "version_minor": 0
      },
      "text/plain": [
       "Validation: |          | 0/? [00:00<?, ?it/s]"
      ]
     },
     "metadata": {},
     "output_type": "display_data"
    },
    {
     "data": {
      "application/vnd.jupyter.widget-view+json": {
       "model_id": "6a55a95dda2f4515b0b0b05741d6e923",
       "version_major": 2,
       "version_minor": 0
      },
      "text/plain": [
       "Validation: |          | 0/? [00:00<?, ?it/s]"
      ]
     },
     "metadata": {},
     "output_type": "display_data"
    },
    {
     "data": {
      "application/vnd.jupyter.widget-view+json": {
       "model_id": "bba197813842417c897ef202efb174a1",
       "version_major": 2,
       "version_minor": 0
      },
      "text/plain": [
       "Validation: |          | 0/? [00:00<?, ?it/s]"
      ]
     },
     "metadata": {},
     "output_type": "display_data"
    },
    {
     "data": {
      "application/vnd.jupyter.widget-view+json": {
       "model_id": "e820b21b14f7436bbe0bb39b5db84c4b",
       "version_major": 2,
       "version_minor": 0
      },
      "text/plain": [
       "Validation: |          | 0/? [00:00<?, ?it/s]"
      ]
     },
     "metadata": {},
     "output_type": "display_data"
    },
    {
     "data": {
      "application/vnd.jupyter.widget-view+json": {
       "model_id": "a99ebecedc9543f888b41b571bf25083",
       "version_major": 2,
       "version_minor": 0
      },
      "text/plain": [
       "Validation: |          | 0/? [00:00<?, ?it/s]"
      ]
     },
     "metadata": {},
     "output_type": "display_data"
    },
    {
     "data": {
      "application/vnd.jupyter.widget-view+json": {
       "model_id": "d61d53c3ddb746709dde69c97228e71d",
       "version_major": 2,
       "version_minor": 0
      },
      "text/plain": [
       "Validation: |          | 0/? [00:00<?, ?it/s]"
      ]
     },
     "metadata": {},
     "output_type": "display_data"
    },
    {
     "data": {
      "application/vnd.jupyter.widget-view+json": {
       "model_id": "8f84005f4ce34662a8d9ff69a17acd96",
       "version_major": 2,
       "version_minor": 0
      },
      "text/plain": [
       "Validation: |          | 0/? [00:00<?, ?it/s]"
      ]
     },
     "metadata": {},
     "output_type": "display_data"
    },
    {
     "name": "stderr",
     "output_type": "stream",
     "text": [
      "`Trainer.fit` stopped: `max_epochs=50` reached.\n"
     ]
    }
   ],
   "source": [
    "## fit network\n",
    "trainer.fit(\n",
    "    tft,\n",
    "    train_dataloaders = train_dataloader,\n",
    "    val_dataloaders = val_dataloader\n",
    ")"
   ]
  },
  {
   "cell_type": "code",
   "execution_count": null,
   "id": "46cd456c",
   "metadata": {},
   "outputs": [
    {
     "name": "stderr",
     "output_type": "stream",
     "text": [
      "LOCAL_RANK: 0 - CUDA_VISIBLE_DEVICES: [0]\n"
     ]
    },
    {
     "name": "stderr",
     "output_type": "stream",
     "text": [
      "/root/anaconda3/envs/trch/lib/python3.12/site-packages/lightning/pytorch/trainer/connectors/data_connector.py:425: The 'predict_dataloader' does not have many workers which may be a bottleneck. Consider increasing the value of the `num_workers` argument` to `num_workers=127` in the `DataLoader` to improve performance.\n"
     ]
    },
    {
     "data": {
      "text/plain": [
       "tensor(0.6430, device='cuda:0')"
      ]
     },
     "execution_count": 15,
     "metadata": {},
     "output_type": "execute_result"
    }
   ],
   "source": [
    "predictions = trainer.model.predict(val_dataloader, return_y = True, trainer_kwargs = dict(accelerator = \"gpu\"))\n",
    "SMAPE()(predictions.output, predictions.y) ## Baseline보다 못한데요...? 아직 덜됐나..."
   ]
  },
  {
   "cell_type": "markdown",
   "id": "50b43dc9",
   "metadata": {},
   "source": [
    "### Hyperparameter Tuning"
   ]
  },
  {
   "cell_type": "code",
   "execution_count": null,
   "id": "3f9b16fc",
   "metadata": {},
   "outputs": [],
   "source": [
    "import pickle\n",
    "from pytorch_forecasting.models.temporal_fusion_transformer.tuning import optimize_hyperparameters\n",
    "\n",
    "## create study\n",
    "study = optimize_hyperparameters(\n",
    "    train_dataloader,\n",
    "    val_dataloader,\n",
    "    model_path=\"optuna_test\",\n",
    "    n_trials=200,\n",
    "    max_epochs=50,\n",
    "    gradient_clip_val_range=(0.01, 1.0),\n",
    "    hidden_size_range=(8, 128),\n",
    "    hidden_continuous_size_range=(8, 128),\n",
    "    attention_head_size_range=(1, 4),\n",
    "    learning_rate_range=(0.001, 0.1),\n",
    "    dropout_range=(0.1, 0.3),\n",
    "    trainer_kwargs=dict(limit_train_batches=30),\n",
    "    reduce_on_plateau_patience=4,\n",
    "    use_learning_rate_finder=False,  # use Optuna to find ideal learning rate or use in-built learning rate finder\n",
    ")\n",
    "\n",
    "## save study results\n",
    "# with open(\"test_study.pkl\", \"wb\") as f :\n",
    "#     pickle.dump(study, f)\n",
    "    \n",
    "## show best hyperparameters\n",
    "print(study.best_trial.params)"
   ]
  },
  {
   "cell_type": "markdown",
   "id": "255e4422",
   "metadata": {},
   "source": [
    "## Data"
   ]
  },
  {
   "cell_type": "code",
   "execution_count": 105,
   "id": "821f71e7",
   "metadata": {},
   "outputs": [],
   "source": [
    "df_train = pd.read_csv(\"/root/Dacon_comp/2025 전력사용량 예측/train.csv\")\n",
    "df_test = pd.read_csv(\"/root/Dacon_comp/2025 전력사용량 예측/test.csv\")\n",
    "building_info = pd.read_csv(\"/root/Dacon_comp/2025 전력사용량 예측/building_info.csv\")\n",
    "\n",
    "df_train = df_train.rename({pre:new for pre, new in zip(df_train.columns, [\"num_date_time\", \"build_num\", \"date\", \"temp\", \"precip\", \"wind\", \"humidity\", \"sunhour\", \"sunweight\", \"power\"])}, axis = 1)\n",
    "df_test = df_test.rename({pre:new for pre, new in zip(df_test.columns, [\"num_date_time\", \"build_num\", \"date\", \"temp\", \"precip\", \"wind\", \"humidity\", \"sunhour\", \"sunweight\"])}, axis = 1)"
   ]
  },
  {
   "cell_type": "code",
   "execution_count": 106,
   "id": "6a977ac8",
   "metadata": {},
   "outputs": [],
   "source": [
    "## information processing\n",
    "building_info = building_info.replace(\"-\", \"0\").rename({c:n for c, n in zip(building_info.columns, [\"build_num\", \"build_type\", \"GFA\", \"CA\", \"solar_gen\", \"ESS\", \"PCS\"])}, axis = 1)\\\n",
    "    .assign(solar_gen = lambda _df : _df.solar_gen.astype(\"float64\"))\\\n",
    "    .assign(ESS = lambda _df : _df.ESS.astype(\"float64\"))\\\n",
    "    .assign(PCS = lambda _df : _df.PCS.astype(\"float64\"))\n",
    "    \n",
    "## one-hot encoding\n",
    "building_info = pd.get_dummies(building_info, dtype = int)\n",
    "building_info = building_info.rename({c:f\"type_{i}\" for i, c in enumerate(building_info.columns[6:])}, axis = 1)"
   ]
  },
  {
   "cell_type": "code",
   "execution_count": 107,
   "id": "7cf500d0",
   "metadata": {},
   "outputs": [],
   "source": [
    "## dttm으로 타입 변경\n",
    "df_train[\"date\"] = pd.to_datetime(df_train.date)\n",
    "df_test[\"date\"] = pd.to_datetime(df_test.date)\n",
    "holilist = [\"06-06\", \"08-15\"] ## 2024 추석은 9월 17일\n",
    "\n",
    "## train data\n",
    "del_time = df_train.date - df_train.date.min()\n",
    "df_train[\"time_idx\"] = del_time.dt.days*24 + del_time.dt.seconds//3600\n",
    "df_train[\"month\"] = df_train.date.dt.month.astype(str).astype(\"category\")\n",
    "df_train[\"wday\"] = df_train.date.dt.weekday.astype(str).astype(\"category\")\n",
    "df_train[\"is_holiday\"] = df_train.date.astype(str).str[5:10].map(lambda x : 1 if x in holilist else 0)\n",
    "df_train.drop([\"num_date_time\", \"date\"], axis = 1)\n",
    "df_train = pd.merge(df_train, building_info, on = \"build_num\")\n",
    "\n",
    "## 일단 국경일 이외 special day는 다루지 않기로 함\n",
    "\n",
    "## test data\n",
    "del_time = df_test.date - df_train.date.min()\n",
    "df_test[\"time_idx\"] = del_time.dt.days*24 + del_time.dt.seconds//3600\n",
    "df_test[\"month\"] = df_test.date.dt.month.astype(str).astype(\"category\")\n",
    "df_test[\"wday\"] = df_test.date.dt.weekday.astype(str).astype(\"category\")\n",
    "df_test[\"is_holiday\"] = 0 ## 8.25 이후 휴일 없음\n",
    "df_test.drop([\"num_date_time\", \"date\"], axis = 1)\n",
    "df_test = pd.merge(df_test, building_info, on = \"build_num\")"
   ]
  },
  {
   "cell_type": "code",
   "execution_count": 112,
   "id": "362f4dc7",
   "metadata": {},
   "outputs": [
    {
     "data": {
      "text/plain": [
       "{'power', 'sunhour', 'sunweight'}"
      ]
     },
     "execution_count": 112,
     "metadata": {},
     "output_type": "execute_result"
    }
   ],
   "source": [
    "set(df_train.columns) - set(df_test.columns)"
   ]
  },
  {
   "cell_type": "code",
   "execution_count": null,
   "id": "23eb382f",
   "metadata": {},
   "outputs": [],
   "source": [
    "max_prediction_length = 6   ## validation length\n",
    "max_encoder_length = 24     ## encoding length\n",
    "training_cutoff = data[\"time_idx\"].max() - max_prediction_length ## 훈련 데이터 종료 시점\n",
    "\n",
    "training = TimeSeriesDataSet(\n",
    "    data[lambda x : x.time_idx <= training_cutoff],\n",
    "    time_idx = \"time_idx\", ## integer. 0 >=\n",
    "    target = \"volume\",\n",
    "    group_ids = [\"agency\", \"sku\"], ## TimeSeries Group\n",
    "    min_encoder_length = max_encoder_length // 2, ## 인코더 길이 길게 유지\n",
    "    max_encoder_length = max_encoder_length,\n",
    "    min_prediction_length = 1,\n",
    "    max_prediction_length = max_prediction_length,\n",
    "    static_categoricals = [\"agency\", \"sku\"], ## 분리되는 요소만 시점에 불변\n",
    "    static_reals = [\"avg_population_2017\", \"avg_yearly_household_income_2017\"], ## 수치형 중에선 평균값만 불변\n",
    "    time_varying_known_categoricals = [\"special_days\", \"month\"], ## 시간에 따라 바뀌는 카테고리\n",
    "    variable_groups = {\n",
    "        \"special_days\" : special_days\n",
    "    }, ## 한 개의 변수로 설명 가능\n",
    "    time_varying_known_reals = [\"time_idx\", \"price_regular\", \"discount_in_percent\"],\n",
    "    time_varying_unknown_categoricals = [],\n",
    "    time_varying_unknown_reals = [\n",
    "        \"volume\",\n",
    "        \"log_volume\",\n",
    "        \"industry_volume\",\n",
    "        \"soda_volume\",\n",
    "        \"avg_max_temp\",\n",
    "        \"avg_volume_by_agency\",\n",
    "        \"avg_volume_by_sku\",\n",
    "    ], ## 정보 유출?\n",
    "    target_normalizer = GroupNormalizer(\n",
    "        groups=[\"agency\", \"sku\"], transformation=\"softplus\"\n",
    "    ),  ## use softplus and normalize by group -> ReLU랑 비슷함\n",
    "    add_relative_time_idx = True,\n",
    "    add_target_scales = True,\n",
    "    add_encoder_length = True\n",
    ")\n",
    "\n",
    "## create validation set\n",
    "validation = TimeSeriesDataSet.from_dataset(\n",
    "    training, data, predict = True, stop_randomization = True\n",
    ")\n",
    "\n",
    "## create dataloaders for model\n",
    "batch_size = 32\n",
    "train_dataloader = training.to_dataloader(\n",
    "    train = True, batch_size = batch_size, num_workers = 0\n",
    ")\n",
    "val_dataloader = validation.to_dataloader(\n",
    "    train = False, batch_size = batch_size * 10, num_workers = 0\n",
    ")"
   ]
  },
  {
   "cell_type": "markdown",
   "id": "d11c9a50",
   "metadata": {},
   "source": [
    "## Learning"
   ]
  },
  {
   "cell_type": "markdown",
   "id": "7ee67306",
   "metadata": {},
   "source": []
  }
 ],
 "metadata": {
  "kernelspec": {
   "display_name": "trch",
   "language": "python",
   "name": "python3"
  },
  "language_info": {
   "codemirror_mode": {
    "name": "ipython",
    "version": 3
   },
   "file_extension": ".py",
   "mimetype": "text/x-python",
   "name": "python",
   "nbconvert_exporter": "python",
   "pygments_lexer": "ipython3",
   "version": "3.12.2"
  }
 },
 "nbformat": 4,
 "nbformat_minor": 5
}
